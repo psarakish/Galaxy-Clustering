{
 "cells": [
  {
   "cell_type": "code",
   "execution_count": null,
   "id": "050aff3e",
   "metadata": {},
   "outputs": [],
   "source": [
   ]
  },
  {
   "cell_type": "code",
   "execution_count": null,
   "id": "c0f678fa",
   "metadata": {},
   "outputs": [],
   "source": [
    "import pandas as pd\n",
    "import numpy as np\n",
    "from sklearn.cluster import DBSCAN\n",
    "from sklearn import metrics\n",
    "from sklearn.metrics import pairwise_distances \n",
    "from astropy.coordinates import Distance\n",
    "from sklearn.neighbors import DistanceMetric\n",
    "from numpy import sqrt \n",
    "from math import cos\n",
    "from math import sin\n",
    "from sklearn.preprocessing import LabelEncoder\n",
    "from sklearn.model_selection import train_test_split\n",
    "from sklearn.model_selection import RandomizedSearchCV #use gridsearch instead\n",
    "from sklearn.metrics import make_scorer\n",
    "import warnings\n",
    "warnings.filterwarnings(\"ignore\")"
   ]
  },
  {
   "cell_type": "code",
   "execution_count": null,
   "id": "f2e73303",
   "metadata": {},
   "outputs": [],
   "source": [
    "data = pd.read_csv('Clusteringdata.csv')\n",
    "features = data[['RA', 'DEC', 'Redshift']]\n",
    "\n",
    "label_encoder = LabelEncoder()\n",
    "encoded_labels = label_encoder.fit_transform(data['TrueLabels'])\n",
    "\n",
    "X_train, X_test, y_train, y_test = train_test_split(features, encoded_labels, test_size=0.2, random_state=42)"
   ]
  },
  {
   "cell_type": "code",
   "execution_count": null,
   "id": "38eeee64",
   "metadata": {},
   "outputs": [],
   "source": [
    "pd.set_option('display.max_rows', None)\n",
    "pd.set_option('display.max_columns', None)\n",
    "\n",
    "labels_vc = data['TrueLabels'].value_counts()\n",
    "count_once = (labels_vc > 3 ).sum()\n",
    "\n",
    "print(labels_vc.shape[0])\n",
    "print(labels_vc)\n",
    "print(count_once)"
   ]
  },
  {
   "cell_type": "code",
   "execution_count": null,
   "id": "8e9aa60f",
   "metadata": {},
   "outputs": [],
   "source": [
    "## Distance metric for all data\n",
    "def spherical_distance(coord1, coord2):\n",
    "    ra1, dec1, z1 = coord1\n",
    "    ra2, dec2, z2 = coord2\n",
    "    c =  299792 #in km/sec\n",
    "    ra1, ra2, dec1, dec2 = np.radians([ra1, ra2, dec1, dec2])\n",
    "    r1 = (z1*c)/67.0\n",
    "    r2 = (z2*c)/67.0\n",
    "    distance = sqrt( r1**2 + r2**2 - 2*r1*r2*(sin(dec1)*sin(dec2)*cos(ra1-ra2) + (cos(dec1)*cos(dec2)) ))      \n",
    "    return distance\n",
    "\n",
    "# Extract the coordinates from the training sample\n",
    "coordinates = data[['RA', 'DEC', 'Redshift']].values\n",
    "coordinates \n",
    "\n",
    "# Create a distance metric object using the custom distance function\n",
    "distance_metric = DistanceMetric.get_metric(spherical_distance)\n",
    "\n",
    "# Compute the pairwise distances using the custom distance metric\n",
    "dist_matrix = distance_metric.pairwise(coordinates)\n",
    "\n"
   ]
  },
  {
   "cell_type": "code",
   "execution_count": null,
   "id": "843795a2",
   "metadata": {},
   "outputs": [],
   "source": [
    "## Distance metric for train sample\n",
    "def spherical_distance(coord1, coord2):\n",
    "    ra1, dec1, z1 = coord1\n",
    "    ra2, dec2, z2 = coord2\n",
    "    c =  299792 #in km/sec\n",
    "    ra1, ra2, dec1, dec2 = np.radians([ra1, ra2, dec1, dec2])\n",
    "    r1 = (z1*c)/67.0\n",
    "    r2 = (z2*c)/67.0\n",
    "    distance = sqrt( r1**2 + r2**2 - 2*r1*r2*(sin(dec1)*sin(dec2)*cos(ra1-ra2) + (cos(dec1)*cos(dec2)) ))      \n",
    "    return distance\n",
    "\n",
    "# Extract the coordinates from the training sample\n",
    "coordinates = X_train.values\n",
    "coordinates \n",
    "\n",
    "# Create a distance metric object using the custom distance function\n",
    "distance_metric = DistanceMetric.get_metric(spherical_distance)\n",
    "\n",
    "# Compute the pairwise distances using the custom distance metric\n",
    "train_distance_matrix = distance_metric.pairwise(coordinates)\n"
   ]
  },
  {
   "cell_type": "code",
   "execution_count": null,
   "id": "14f2b768",
   "metadata": {},
   "outputs": [],
   "source": []
  },
  {
   "cell_type": "code",
   "execution_count": null,
   "id": "808b4a24",
   "metadata": {},
   "outputs": [],
   "source": []
  },
  {
   "cell_type": "code",
   "execution_count": null,
   "id": "9c4e6216",
   "metadata": {},
   "outputs": [],
   "source": []
  },
  {
   "cell_type": "code",
   "execution_count": null,
   "id": "d9dac4e4",
   "metadata": {},
   "outputs": [],
   "source": []
  },
  {
   "cell_type": "code",
   "execution_count": null,
   "id": "17a81eee",
   "metadata": {},
   "outputs": [],
   "source": []
  },
  {
   "cell_type": "code",
   "execution_count": null,
   "id": "43706f8b",
   "metadata": {},
   "outputs": [],
   "source": []
  },
  {
   "cell_type": "code",
   "execution_count": null,
   "id": "f151a0e7",
   "metadata": {},
   "outputs": [],
   "source": []
  },
  {
   "cell_type": "code",
   "execution_count": null,
   "id": "7b8f7a78",
   "metadata": {},
   "outputs": [],
   "source": []
  },
  {
   "cell_type": "code",
   "execution_count": null,
   "id": "5cb84434",
   "metadata": {},
   "outputs": [],
   "source": []
  }
 ],
 "metadata": {
  "kernelspec": {
   "display_name": "Python 3 (ipykernel)",
   "language": "python",
   "name": "python3"
  },
  "language_info": {
   "codemirror_mode": {
    "name": "ipython",
    "version": 3
   },
   "file_extension": ".py",
   "mimetype": "text/x-python",
   "name": "python",
   "nbconvert_exporter": "python",
   "pygments_lexer": "ipython3",
   "version": "3.10.12"
  }
 },
 "nbformat": 4,
 "nbformat_minor": 5
}
